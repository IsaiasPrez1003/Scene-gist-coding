{
 "cells": [
  {
   "cell_type": "markdown",
   "id": "342fad6f",
   "metadata": {},
   "source": [
    "All 14 scenes "
   ]
  },
  {
   "cell_type": "code",
   "execution_count": 9,
   "id": "bab48022",
   "metadata": {},
   "outputs": [],
   "source": [
    "import pandas as pd\n",
    "import os\n",
    "\n",
    "output_dir = r\"C:\\Users\\isaia\\OneDrive\\Desktop\\Academic work\\Scholarly activities\\Research voluntering\\Research voluntering 2024 Dr. Sanocki\\Scene gist coding\\data\\tsv\"\n",
    "os.makedirs(output_dir, exist_ok = True)\n",
    "\n",
    "# function to convert xlsx to tsv.\n",
    "def xlsx_to_tsv(xlsx_path, tsv_path, sheet_name = 0):\n",
    "    df = pd.read_excel(xlsx_path, sheet_name = sheet_name)\n",
    "    df.to_csv(tsv_path, sep = \"\\t\", index = False)\n",
    "    print(f\"Coverted {xlsx_path} to {tsv_path}\")"
   ]
  },
  {
   "cell_type": "code",
   "execution_count": null,
   "id": "23886fd2",
   "metadata": {},
   "outputs": [
    {
     "name": "stdout",
     "output_type": "stream",
     "text": [
      "Coverted C:\\Users\\isaia\\OneDrive\\Desktop\\Academic work\\Scholarly activities\\Research voluntering\\Research voluntering 2024 Dr. Sanocki\\Scene gist coding\\data\\xlsx\\Final cleaned 14 scenes 9.12.24.xlsx to C:\\Users\\isaia\\OneDrive\\Desktop\\Academic work\\Scholarly activities\\Research voluntering\\Research voluntering 2024 Dr. Sanocki\\Scene gist coding\\data\\tsv\\Final_cleaned_14_scenes.tsv\n"
     ]
    }
   ],
   "source": [
    "# converting Xlsx to tsv.\n",
    "xlsx_filepath = r\"C:\\Users\\isaia\\OneDrive\\Desktop\\Academic work\\Scholarly activities\\Research voluntering\\Research voluntering 2024 Dr. Sanocki\\Scene gist coding\\data\\xlsx\\Final cleaned 14 scenes 9.12.24.xlsx\"\n",
    "tsv_savepath = os.path.join(output_dir, \"Final_cleaned_14_scenes.tsv\") \n",
    "\n",
    "xlsx_to_tsv(xlsx_filepath, tsv_savepath) \n",
    "# Output mostly works but has a few issues slicing up the sentences. \n",
    "# Manual clean-up needed for (FM-F, q2) and (MR-NB, w2)\n",
    "# In addition, you will need to adjust the headers."
   ]
  }
 ],
 "metadata": {
  "kernelspec": {
   "display_name": "Python 3",
   "language": "python",
   "name": "python3"
  },
  "language_info": {
   "codemirror_mode": {
    "name": "ipython",
    "version": 3
   },
   "file_extension": ".py",
   "mimetype": "text/x-python",
   "name": "python",
   "nbconvert_exporter": "python",
   "pygments_lexer": "ipython3",
   "version": "3.12.6"
  }
 },
 "nbformat": 4,
 "nbformat_minor": 5
}
