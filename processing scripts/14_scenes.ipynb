{
 "cells": [
  {
   "cell_type": "markdown",
   "id": "342fad6f",
   "metadata": {},
   "source": [
    "All 14 scenes "
   ]
  },
  {
   "cell_type": "code",
   "execution_count": 13,
   "id": "bab48022",
   "metadata": {},
   "outputs": [],
   "source": [
    "import pandas as pd\n",
    "import os\n",
    "\n",
    "output_dir = r\"C:\\Users\\isaia\\OneDrive\\Desktop\\Academic work\\Scholarly activities\\Research voluntering\\Research voluntering 2024 Dr. Sanocki\\Scene gist coding\\data\\tsv\"\n",
    "os.makedirs(output_dir, exist_ok = True)\n",
    "\n",
    "# function to convert xlsx to tsv.\n",
    "def xlsx_to_tsv(xlsx_path, tsv_path, sheet_name = 0):\n",
    "    df = pd.read_excel(xlsx_path, sheet_name = sheet_name)\n",
    "    df.to_csv(tsv_path, sep = \"\\t\", index = False)\n",
    "    print(f\"Coverted {xlsx_path} to {tsv_path}\")"
   ]
  },
  {
   "cell_type": "code",
   "execution_count": null,
   "id": "23886fd2",
   "metadata": {},
   "outputs": [
    {
     "name": "stdout",
     "output_type": "stream",
     "text": [
      "Coverted C:\\Users\\isaia\\OneDrive\\Desktop\\Academic work\\Scholarly activities\\Research voluntering\\Research voluntering 2024 Dr. Sanocki\\Scene gist coding\\data\\xlsx\\Ad_Final cleaned 14 scenes 9.12.24.xlsx to C:\\Users\\isaia\\OneDrive\\Desktop\\Academic work\\Scholarly activities\\Research voluntering\\Research voluntering 2024 Dr. Sanocki\\Scene gist coding\\data\\tsv\\Ad_Final_cleaned_14_scenes.tsv\n"
     ]
    }
   ],
   "source": [
    "# converting Xlsx to tsv.\n",
    "xlsx_filepath = r\"C:\\Users\\isaia\\OneDrive\\Desktop\\Academic work\\Scholarly activities\\Research voluntering\\Research voluntering 2024 Dr. Sanocki\\Scene gist coding\\data\\xlsx\\Ad_Final cleaned 14 scenes 9.12.24.xlsx\"\n",
    "tsv_savepath = os.path.join(output_dir, \"Ad_Final_cleaned_14_scenes.tsv\") \n",
    "\n",
    "xlsx_to_tsv(xlsx_filepath, tsv_savepath) "
   ]
  },
  {
   "cell_type": "markdown",
   "id": "cbc30709",
   "metadata": {},
   "source": [
    "By converting the xlsx file to a tsv, we can then use the Jsonify function developed by Dr. Kim to transform the tsv into a json file. (Describe the steps to the process).\n",
    "A simple way to remove bad encoding is highlight the text \"\\\\0u00\", right click and select \"change all occurrences\" and hit delete. (This is a VScode feature)."
   ]
  }
 ],
 "metadata": {
  "kernelspec": {
   "display_name": "Python 3",
   "language": "python",
   "name": "python3"
  },
  "language_info": {
   "codemirror_mode": {
    "name": "ipython",
    "version": 3
   },
   "file_extension": ".py",
   "mimetype": "text/x-python",
   "name": "python",
   "nbconvert_exporter": "python",
   "pygments_lexer": "ipython3",
   "version": "3.12.6"
  }
 },
 "nbformat": 4,
 "nbformat_minor": 5
}
